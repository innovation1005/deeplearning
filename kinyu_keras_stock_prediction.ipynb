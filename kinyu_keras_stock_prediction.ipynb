{
 "cells": [
  {
   "cell_type": "code",
   "execution_count": 1,
   "metadata": {},
   "outputs": [
    {
     "name": "stderr",
     "output_type": "stream",
     "text": [
      "Using TensorFlow backend.\n"
     ]
    }
   ],
   "source": [
    "%matplotlib inline\n",
    "import matplotlib.pyplot as plt\n",
    "import pandas_datareader.data as web\n",
    "import pandas as pd\n",
    "from datetime import datetime, date\n",
    "import time\n",
    "import warnings\n",
    "import numpy as np\n",
    "from numpy import newaxis\n",
    "\n",
    "import keras\n",
    "from keras.models import Sequential\n",
    "from keras.layers import Dense, Dropout, Activation\n",
    "from keras.layers import Conv1D, GlobalAveragePooling1D, MaxPooling1D\n",
    "from keras.layers import Conv2D, MaxPooling2D\n",
    "from keras.layers import Embedding\n",
    "from keras.layers import LSTM\n",
    "from keras.layers.core import Dense, Activation, Dropout,Flatten\n",
    "from keras.layers.recurrent import LSTM\n",
    "from keras.layers.recurrent import SimpleRNN\n",
    "from keras.optimizers import SGD\n",
    "from keras.callbacks import EarlyStopping\n",
    "from keras.optimizers import SGD"
   ]
  },
  {
   "cell_type": "markdown",
   "metadata": {},
   "source": [
    "# - S&P 500 の過去データを米国ヤフーからダウンロード　-------------------------------"
   ]
  },
  {
   "cell_type": "code",
   "execution_count": 2,
   "metadata": {
    "collapsed": true
   },
   "outputs": [],
   "source": [
    "#Step 1 Load Data\n",
    "tsd0 = web.DataReader(\"SPY\",\"yahoo\",\"1990/1/1\")\n",
    "tsd = tsd0.Close.values"
   ]
  },
  {
   "cell_type": "code",
   "execution_count": 3,
   "metadata": {
    "collapsed": true
   },
   "outputs": [],
   "source": [
    "def prepare_data(data, time_window,shuffling):\n",
    "    data_div = []\n",
    "    for index in range(len(data) - time_window-1):#データをdata_lengthの長さに分割する\n",
    "        data_div.append(data[index: index + time_window+1])\n",
    "    n_data = []\n",
    "    for w in data_div:\n",
    "        n_window = [((float(ww) / float(w[0])-1)) for ww in w]#価格データを初期価格で基準化しリターンの形に変更している。\n",
    "        n_data.append(n_window)\n",
    "    data_div = np.array(n_data)\n",
    "\n",
    "    row = round(0.9 * data_div.shape[0])#最初の90%を訓練データに、後の10%をテストデータに分割している。\n",
    "    train = data_div[:int(row), :]#\n",
    "    if shuffling:\n",
    "        np.random.shuffle(train)\n",
    "    x_train = train[:, :-1]#train(全データ数、time_window数)\n",
    "    y_train = train[:, -1]\n",
    "    x_test = data_div[int(row):, :-1]#train(全データ数、time_window-1数)\n",
    "    y_test = data_div[int(row):, -1]#train(全データ数、1)\n",
    "    print(x_train.shape[0],x_train.shape[1])\n",
    "    x_train = np.reshape(x_train, (x_train.shape[0], x_train.shape[1], 1))\n",
    "    x_test = np.reshape(x_test, (x_test.shape[0], x_test.shape[1], 1))  \n",
    "\n",
    "    return [x_train, y_train, x_test, y_test]"
   ]
  },
  {
   "cell_type": "code",
   "execution_count": 4,
   "metadata": {},
   "outputs": [
    {
     "name": "stdout",
     "output_type": "stream",
     "text": [
      "5612 10\n",
      "no. of all data 6247\n",
      "no. of train data X 5612 y 5612\n",
      "no. of test data X 624 y 624\n",
      "(5612, 10, 1) (5612,)\n"
     ]
    }
   ],
   "source": [
    "#Step 2 \n",
    "time_window=10\n",
    "pred_window=1\n",
    "X_train, Y_train, X_test, Y_test = prepare_data(tsd, time_window,True)\n",
    "print('no. of all data',len(tsd))\n",
    "print('no. of train data X',len(X_train),'y',len(Y_train))\n",
    "print('no. of test data X',len(X_test),'y', len(Y_test))\n",
    "print(X_train.shape,Y_train.shape)"
   ]
  },
  {
   "cell_type": "code",
   "execution_count": 5,
   "metadata": {},
   "outputs": [
    {
     "name": "stdout",
     "output_type": "stream",
     "text": [
      "[ 0.0001365]\n"
     ]
    }
   ],
   "source": [
    "noize=0\n",
    "for data,d2 in zip(X_train,Y_train):\n",
    "    noize+=(data[9]-d2)**2\n",
    "print(noize/len(Y_train))"
   ]
  },
  {
   "cell_type": "markdown",
   "metadata": {
    "collapsed": true
   },
   "source": [
    "# 多層パーセプトロン (MLP) "
   ]
  },
  {
   "cell_type": "code",
   "execution_count": 6,
   "metadata": {},
   "outputs": [
    {
     "name": "stdout",
     "output_type": "stream",
     "text": [
      "\n",
      "loss 0.000133966591106\n",
      "average val_loss 0.00010485690928\n",
      "40\n",
      "0:00:08.072482\n"
     ]
    },
    {
     "data": {
      "image/png": "[encoded data removed]",
      "text/plain": [
       "<matplotlib.figure.Figure at 0x1d8dfe23eb8>"
      ]
     },
     "metadata": {},
     "output_type": "display_data"
    }
   ],
   "source": [
    "start_time=datetime.now()\n",
    "model = Sequential()\n",
    "model.add(Dense(512, activation='relu', input_shape=(time_window,)))\n",
    "model.add(Dense(1, activation='linear'))\n",
    "model.compile(loss='mse',optimizer='rmsprop')\n",
    "\n",
    "XX_train=X_train.reshape(X_train.shape[0],time_window)\n",
    "XX_test=X_test.reshape(X_test.shape[0],time_window)\n",
    "epochs=40\n",
    "results=model.fit(XX_train, Y_train,epochs=epochs,batch_size=30,verbose=0, validation_data=(XX_test, Y_test))\n",
    "loss=results.history['loss']\n",
    "plt.plot(range(epochs),loss)\n",
    "plt.xlabel('epochs')\n",
    "plt.ylabel('loss')\n",
    "print()\n",
    "print('loss',loss[-1])\n",
    "val_loss=results.history['val_loss']\n",
    "print('average val_loss',np.average(val_loss))\n",
    "print(len(val_loss))\n",
    "print(datetime.now()-start_time)"
   ]
  },
  {
   "cell_type": "markdown",
   "metadata": {},
   "source": [
    "# VGG-like convnet:"
   ]
  },
  {
   "cell_type": "markdown",
   "metadata": {},
   "source": [
    "#  LSTMを用いた系列データ分析:\n"
   ]
  },
  {
   "cell_type": "code",
   "execution_count": 7,
   "metadata": {
    "collapsed": true
   },
   "outputs": [],
   "source": [
    "model = Sequential()\n",
    "model.add(LSTM(input_shape=(None,1),units=128,return_sequences=False))\n",
    "model.add(Dense(units=1))\n",
    "model.add(Activation('linear'))\n",
    "model.compile(loss='mse', optimizer='rmsprop')\n",
    "#model.summary()"
   ]
  },
  {
   "cell_type": "code",
   "execution_count": 8,
   "metadata": {},
   "outputs": [
    {
     "name": "stdout",
     "output_type": "stream",
     "text": [
      "\n",
      "loss 0.000146631424556\n",
      "average val_loss 6.99997121093e-05\n",
      "0:00:28.667530\n"
     ]
    },
    {
     "data": {
      "image/png": "[encoded data removed]",
      "text/plain": [
       "<matplotlib.figure.Figure at 0x1d8e1b72be0>"
      ]
     },
     "metadata": {},
     "output_type": "display_data"
    }
   ],
   "source": [
    "start_time=datetime.now()\n",
    "epochs=10\n",
    "results=model.fit(X_train, Y_train, batch_size=20, epochs=epochs,verbose=0,validation_data=(X_test, Y_test))\n",
    "loss=results.history['loss']\n",
    "plt.plot(range(epochs),loss)\n",
    "plt.xlabel('epochs')\n",
    "plt.ylabel('loss')\n",
    "print()\n",
    "print('loss',loss[-1])\n",
    "val_loss=results.history['val_loss']\n",
    "print('average val_loss',np.average(val_loss))\n",
    "print(datetime.now()-start_time)"
   ]
  },
  {
   "cell_type": "markdown",
   "metadata": {},
   "source": [
    "# 1D Convolutionを用いた系列データ分析:\n"
   ]
  },
  {
   "cell_type": "code",
   "execution_count": 9,
   "metadata": {
    "collapsed": true
   },
   "outputs": [],
   "source": [
    "model = Sequential()\n",
    "model.add(Conv1D(64, 3, activation='relu', input_shape=(time_window,1)))\n",
    "model.add(Conv1D(64, 3, activation='relu'))\n",
    "model.add(Conv1D(32, 3, activation='relu'))\n",
    "model.add(Conv1D(32, 3, activation='relu'))\n",
    "model.add(GlobalAveragePooling1D())\n",
    "model.add(Dense(1, activation='linear'))\n",
    "model.compile(loss='mse',optimizer='rmsprop')"
   ]
  },
  {
   "cell_type": "code",
   "execution_count": 10,
   "metadata": {},
   "outputs": [
    {
     "name": "stdout",
     "output_type": "stream",
     "text": [
      "\n",
      "loss 0.000158362479753\n",
      "average val_loss 0.000106958085027\n",
      "0:00:13.515153\n"
     ]
    },
    {
     "data": {
      "image/png": "[encoded data removed]",
      "text/plain": [
       "<matplotlib.figure.Figure at 0x1d8e1e8af98>"
      ]
     },
     "metadata": {},
     "output_type": "display_data"
    }
   ],
   "source": [
    "start_time=datetime.now()\n",
    "epochs=20\n",
    "results=model.fit(X_train, Y_train, batch_size=20, epochs=epochs,verbose=0,validation_data=(X_test, Y_test))\n",
    "loss=results.history['loss']\n",
    "plt.plot(range(epochs),loss)\n",
    "plt.xlabel('epochs')\n",
    "plt.ylabel('loss')\n",
    "print()\n",
    "print('loss',loss[-1])\n",
    "val_loss=results.history['val_loss']\n",
    "print('average val_loss',np.average(val_loss))\n",
    "print(datetime.now()-start_time)"
   ]
  },
  {
   "cell_type": "code",
   "execution_count": null,
   "metadata": {
    "collapsed": true
   },
   "outputs": [],
   "source": []
  }
 ],
 "metadata": {
  "kernelspec": {
   "display_name": "Python 3",
   "language": "python",
   "name": "python3"
  },
  "language_info": {
   "codemirror_mode": {
    "name": "ipython",
    "version": 3
   },
   "file_extension": ".py",
   "mimetype": "text/x-python",
   "name": "python",
   "nbconvert_exporter": "python",
   "pygments_lexer": "ipython3",
   "version": "3.5.3"
  }
 },
 "nbformat": 4,
 "nbformat_minor": 2
}
