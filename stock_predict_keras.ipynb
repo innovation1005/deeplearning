{
 "cells": [
  {
   "cell_type": "markdown",
   "metadata": {},
   "source": [
    "# RNN(Recurrent Neural Networks)\n",
    "##### note: 用いられている図はインターネットから取得したもので、変数名等は統一されていません。\n",
    "\n",
    "時系列データを扱うためには、一般的なディープラーニングのモデルではない、その扱いに特化したモデルが必要となります。そのようなモデルをリカレントニューラルネットワーク、または再起型ニューラルネットワークと呼びます。これはダイアグラムを見た方が直感的に、そして容易にその効果を理解できます。\n",
    "\n",
    "<img src=\"https://qiita-image-store.s3.amazonaws.com/0/127228/ce02a73f-c2b0-2185-ba22-e3c2cab165af.jpeg\"/>\n",
    "\n",
    "これは一度データから得られた特徴量を保存して置いて、つぎに新しいデータが来たときにそれと合わせて分析しようという方法です。時刻$t$の入力データと時刻$t-1$の隠れ層の値を用いているのです。これの図をさらに時間の経過にしたがって書き直してみると、\n",
    "\n",
    "<img src=\"http://functionp.com/wp-content/uploads/2016/03/195d5f31583b4269ee5ca938d2a56aac.png\"/>\n",
    "\n",
    "\n",
    "と表現できます。このようにしてモデルに時間の概念を導入しようとしているのです。\n",
    "\n",
    "## 勾配消失問題\n",
    "\n",
    "このように層が深いモデルでは勾配が消失してしまう問題があります。勾配の消失を説明する前に、活性化関数について説明しましょう。\n",
    "\n",
    "入力$x_1$、$x_2$の単純パーセプトロン\n",
    "\n",
    "<img src=\"https://i2.wp.com/developers.eure.jp/wp-content/uploads/2016/12/dl1.png?ssl=1\"/>\n",
    "\n",
    "の総電気信号量は\n",
    "\n",
    "\\begin{equation}\n",
    "    w_1 x_1 + w_2 x_2 + \\theta \n",
    "\\end{equation}\n",
    "\n",
    "で表現されました。これを\n",
    "\n",
    "\\begin{equation}\n",
    "    w^T x + \\theta \n",
    "\\end{equation}\n",
    "と表現します。\n",
    "\n",
    "出力量は\n",
    "\n",
    "\\begin{cases}\n",
    "    1 \\ \\ \\ \\ \\ w_1 x_1 + w_2 x_2 \\ge \\theta \\\\\n",
    "    0 \\ \\ \\ \\ \\ w_1 x_1 + w_2 x_2 < \\theta\n",
    "\\end{cases}\n",
    "\n",
    "でした。したがって、出力$w^T x + \\theta$についてステップ関数を用いて0または1に変換する必要があります。しかし、この重みと閾値を求めるためには、これらのパラメータを遂次的に更新していく方法を取ります。このような方法を勾配降下法と呼びますが、その際に勾配の偏微分を利用します。しかし、ステップ関数では偏微分が利用できないために、一般的にはシグモイド関数を用います。そして、このシグモイド関数のことを活性化関数と呼びます。\n",
    "\n",
    "<img src=\"http://www.yuripapa.net/images/learn8.jpg\"/>\n",
    "\n",
    "このシグモイド関数の導関数\n",
    "\n",
    "$$\\sigma^`(x)=\\sigma(x)(1-\\sigma)$$は\n",
    "\n",
    "<img src=\"https://encrypted-tbn0.gstatic.com/images?q=tbn:ANd9GcTKei5hljeR79bVeCGO093RJquG_irA8SkCosqzBAlWg9DDiIou\"/>\n",
    "\n",
    "と表現できます。この導関数は$x=0$のときに最大値0.25を取ります。しかし、層の数が増え、その度に活性化関数を用いると、この勾配がどんどんなくなってしまいます。この現象を勾配消失問題と呼びます。\n",
    "\n",
    "そして、長期の時間依存性は勾配消失問題のために求めることができないという問題がありました。\n",
    "\n",
    "## LSTM(long short-term memory)\n",
    "\n",
    "長期の時間依存性の問題を解決するために考えだされたのが、LSTMです。\n",
    "\n",
    "### LSTMの特徴\n",
    "\n",
    "LSTMではネットワークの構造を変えることで勾配消失問題を解決しようとしています。\n",
    "\n",
    "##### CEC(constant error carousel)\n",
    "線形活性化関数を使い、重み行列を単位行列とすることで勾配消失問題を回避できます。しかし、この場合には時間依存性のあるデータを受け取った時には学習がうまく行えません。それを入力重み衝突、出力重み衝突といいます。\n",
    "\n",
    "##### 入力、出力ゲート\n",
    "入力重み衝突、出力重み衝突の問題を解決しよう入力ゲートと出力ゲートが導入されています。これは過去のデータが必要になった時点でゲートを開けます。\n",
    "\n",
    "##### 忘却ゲート\n",
    "過去の必要な情報は内部で保持することは重要ですが、必要なくなったときに廃棄することも重要です。そのような役割を担うのが忘却ゲートです。\n",
    "\n",
    "##### のぞき穴結合\n",
    "CEC、入力ゲート、出力ゲートにより、短期・長期の時系列データの学習の効率は改善しましたが、たとえば、出力ゲートが閉じたままであるという問題も生じます。そのような時のために、それぞれのゲートの状態を確認する必要があります。それを可能にするのがのぞき穴結合です。\n",
    "\n",
    "\n",
    "<img src=\"https://deepage.net/img/tflearn_rnn/Long_Short_Term_Memory.png\"/>\n",
    "\n",
    "<img src=\"https://deeplearning4j.org/img/greff_lstm_diagram.png\"/>\n",
    "\n",
    "<img src=\"\"/>\n",
    "<img src=\"\"/>\n",
    "<img src=\"\"/>\n"
   ]
  },
  {
   "cell_type": "markdown",
   "metadata": {},
   "source": [
    "https://www.youtube.com/watch?v=ftMq5ps503w\n",
    "\n",
    "https://github.com/llSourcell/How-to-Predict-Stock-Prices-Easily-Demo"
   ]
  },
  {
   "cell_type": "markdown",
   "metadata": {},
   "source": [
    "##### プログラムを動かすためにモジュールです。"
   ]
  },
  {
   "cell_type": "code",
   "execution_count": 4,
   "metadata": {},
   "outputs": [
    {
     "name": "stderr",
     "output_type": "stream",
     "text": [
      "Using TensorFlow backend.\n"
     ]
    }
   ],
   "source": [
    "%matplotlib inline\n",
    "import time\n",
    "import warnings\n",
    "import numpy as np\n",
    "from numpy import newaxis\n",
    "from keras.layers.core import Dense, Activation, Dropout\n",
    "from keras.layers.recurrent import LSTM\n",
    "from keras.layers.recurrent import SimpleRNN\n",
    "from keras.models import Sequential\n",
    "import matplotlib.pyplot as plt\n",
    "from keras.callbacks import EarlyStopping\n",
    "import pandas_datareader.data as web\n",
    "import pandas as pd\n",
    "from datetime import datetime, date"
   ]
  },
  {
   "cell_type": "markdown",
   "metadata": {},
   "source": [
    "## データをグーグルから取得しています。\n",
    "##### 取得したデータをテストデータ(test)と学習用のデータ(train)に分割しています。"
   ]
  },
  {
   "cell_type": "code",
   "execution_count": 5,
   "metadata": {
    "collapsed": true
   },
   "outputs": [],
   "source": [
    "#Step 1 Load Data\n",
    "tsd0 = web.DataReader(\"SPY\",\"google\",\"1990/1/1\")\n",
    "tsd = tsd0.Close.values"
   ]
  },
  {
   "cell_type": "markdown",
   "metadata": {},
   "source": [
    "##### 訓練データとテストデータの作成\n",
    "\n",
    "ステップ1: 全データをtime_windowの長さに分割する。  \n",
    "\n",
    "ステップ2: 90%のデータが訓練データ、残りがテストデータとなります。\n",
    "\n",
    "ステップ3: 学習用データをシャッフル。学習用データをさらに準備データ(x_train)と教師データ(y_train)に分けます。  \n",
    "\n",
    "ステップ4: テストデータを準備データ(x_test)と教師データ(y_test)に分割。\n",
    "\n",
    "最初のXのデータは0からtime_windowまでをひとつひつつずらしながらローリングしています。一方、yはtime_windowから最後までのデータです。そして、このような形で元のデータを作った後に、出来たデータをシャッフルしています。\n",
    "\n",
    "time_window=50とすると、その最初の90%、つまり45個のデータを訓練データ、残りの5個をテストデータとしています。"
   ]
  },
  {
   "cell_type": "code",
   "execution_count": 6,
   "metadata": {
    "collapsed": true
   },
   "outputs": [],
   "source": [
    "def prepare_data(data, time_window,shuffling):\n",
    "    data_length = time_window + 1\n",
    "    data_div = []\n",
    "    for index in range(len(data) - data_length):\n",
    "        data_div.append(data[index: index + data_length])\n",
    "    n_data = []\n",
    "    for w in data_div:\n",
    "        n_window = [((float(ww) / float(w[0])-1)) for ww in w]\n",
    "        #n_window = [((float(ww))) for ww in w]\n",
    "        n_data.append(n_window)\n",
    "    data_div = np.array(n_data)\n",
    "\n",
    "    row = round(0.9 * data_div.shape[0])\n",
    "    train = data_div[:int(row), :]\n",
    "    if shuffling:\n",
    "        np.random.shuffle(train)\n",
    "    x_train = train[:, :-1]\n",
    "    y_train = train[:, -1]\n",
    "    x_test = data_div[int(row):, :-1]\n",
    "    y_test = data_div[int(row):, -1]\n",
    "\n",
    "    x_train = np.reshape(x_train, (x_train.shape[0], x_train.shape[1], 1))\n",
    "    x_test = np.reshape(x_test, (x_test.shape[0], x_test.shape[1], 1))  \n",
    "\n",
    "    return [x_train, y_train, x_test, y_test]"
   ]
  },
  {
   "cell_type": "code",
   "execution_count": 7,
   "metadata": {},
   "outputs": [
    {
     "name": "stdout",
     "output_type": "stream",
     "text": [
      "no. of all data 4000\n",
      "no. of train data X 3554 y 3554\n",
      "no. of test data X 395 y 395\n",
      "(3554, 50, 1) (3554,)\n"
     ]
    }
   ],
   "source": [
    "#Step 2 \n",
    "time_window=50\n",
    "X_train, y_train, X_test, y_test = prepare_data(tsd, time_window,False)\n",
    "print('no. of all data',len(tsd))\n",
    "print('no. of train data X',len(X_train),'y',len(y_train))\n",
    "print('no. of test data X',len(X_test),'y', len(y_test))\n",
    "print(X_train.shape,y_train.shape)"
   ]
  },
  {
   "cell_type": "markdown",
   "metadata": {},
   "source": [
    "# MODEL\n",
    "## model = sequencial    LSTM + Dense\n",
    "\n",
    "##### retrurn_sequances\n",
    "\n",
    "出力系列の最後の出力を返すか，完全な系列を返すか\n",
    "\n",
    "##### Activation=linear \n",
    "\n",
    "活性化関数：linearなのでそのままと思われます？\n",
    "\n",
    "#### model.compile\n",
    "\n",
    "##### loss=mse\n",
    "\n",
    "損失関数：mean square errors\n",
    "\n",
    "##### optimizer=rmsprop\n",
    "\n",
    "最適化関数：RNNのときの推奨最適化法\n",
    "\n",
    "##### metrics=mae"
   ]
  },
  {
   "cell_type": "code",
   "execution_count": 8,
   "metadata": {},
   "outputs": [
    {
     "name": "stdout",
     "output_type": "stream",
     "text": [
      "compilation time :  0.029520750045776367\n"
     ]
    }
   ],
   "source": [
    "#Step 3\n",
    "early_stopping = EarlyStopping(monitor='val_loss', patience=10, verbose=1)\n",
    "\n",
    "model = Sequential()\n",
    "\n",
    "model.add(LSTM(\n",
    "#model.add(SimpleRNN(\n",
    "    input_shape=(None, 1), \n",
    "    units=50,\n",
    "    return_sequences=False))\n",
    "model.add(Dropout(0.2))\n",
    "\n",
    "model.add(Dense(\n",
    "    units=1))\n",
    "model.add(Activation('linear'))\n",
    "\n",
    "start = time.time()\n",
    "#model.compile(loss='mse', optimizer='rmsprop')\n",
    "model.compile(loss='mse', optimizer='rmsprop',metrics=['mae'])\n",
    "print('compilation time : ', time.time() - start)"
   ]
  },
  {
   "cell_type": "markdown",
   "metadata": {},
   "source": [
    "### model.fit\n",
    "\n",
    "##### validation_split\n",
    "\n",
    "validation_split=0.05とすると，データの最後の5％が検証のために利用されます。0.1では，データの最後の10%が検証に使われます．\n",
    "validation splitによるデータの抽出ではデータはシャッフルされません。したがって，入力データの 最後の x% のsampleに対して検証が行われます．\n",
    "\n",
    "##### shuffle\n",
    "\n",
    "shuffle=Trueと設定すれば、訓練データはシャッフルされます（初期値はTrue）。各epochで訓練データはランダムにシャッフルされますが、検証用データはシャッフルされません．\n",
    "\n",
    "##### batch_size\n",
    "\n",
    "prepare_dataにより、(全データ数－time_winodow)の数だけのtime_windowの長さの時系列データが作られている。これを500分割して、時系列データを抽出している。\n",
    "\n",
    "##### return_sequences\n",
    "\n",
    "真理値．出力系列の最後の出力を返すか，完全な系列を返すか．"
   ]
  },
  {
   "cell_type": "code",
   "execution_count": 6,
   "metadata": {},
   "outputs": [
    {
     "name": "stdout",
     "output_type": "stream",
     "text": [
      "execution time 0:02:05.942982\n"
     ]
    }
   ],
   "source": [
    "#Step 4\n",
    "t1=datetime.now()\n",
    "model.fit(\n",
    "    X_train,\n",
    "    y_train,\n",
    "    batch_size=1,\n",
    "    epochs=1,\n",
    "    shuffle=False,\n",
    "    validation_split=0.05,verbose=0)\n",
    "print('execution time',datetime.now()-t1)"
   ]
  },
  {
   "cell_type": "markdown",
   "metadata": {},
   "source": [
    "###  Prediction"
   ]
  },
  {
   "cell_type": "code",
   "execution_count": 7,
   "metadata": {
    "collapsed": true
   },
   "outputs": [],
   "source": [
    "def predict_time_series_data(model, data, time_window, pred_window):\n",
    "    #Predict sequence of pred_window steps before shifting prediction run forward by pred_window steps\n",
    "    pred_seqs = []\n",
    "    error=0\n",
    "    for i in range(int(len(data)/pred_window+1)):\n",
    "        curr_frame = data[i*pred_window]\n",
    "        predicted = []\n",
    "        for j in range(pred_window):\n",
    "            pred=(model.predict(curr_frame[newaxis,:,:])[0,0])\n",
    "            predicted.append(pred)\n",
    "            curr_frame = curr_frame[1:]\n",
    "            curr_frame = np.insert(curr_frame, [time_window-1], predicted[-1], axis=0)\n",
    "            error+=(pred-data[i][j])**2\n",
    "        pred_seqs.append(predicted)\n",
    "    return pred_seqs,error"
   ]
  },
  {
   "cell_type": "code",
   "execution_count": 8,
   "metadata": {},
   "outputs": [
    {
     "name": "stdout",
     "output_type": "stream",
     "text": [
      "residual squared error [ 3.25894743]\n"
     ]
    },
    {
     "data": {
      "text/plain": [
       "0.011999255011721525"
      ]
     },
     "execution_count": 8,
     "metadata": {},
     "output_type": "execute_result"
    }
   ],
   "source": [
    "#Step 5 - Make the predictions!\n",
    "pred_window=50\n",
    "time_window=time_window\n",
    "predictions,error = predict_time_series_data(model, X_test, time_window,pred_window)\n",
    "print('residual squared error',error)\n",
    "tsd0.Close.pct_change().std()"
   ]
  },
  {
   "cell_type": "markdown",
   "metadata": {},
   "source": [
    "###  Plot"
   ]
  },
  {
   "cell_type": "code",
   "execution_count": 9,
   "metadata": {},
   "outputs": [
    {
     "data": {
      "image/png": "[encoded data removed]",
      "text/plain": [
       "<matplotlib.figure.Figure at 0x29fd64eaeb8>"
      ]
     },
     "metadata": {},
     "output_type": "display_data"
    }
   ],
   "source": [
    "#Step 6 - Plot the prediction!\n",
    "fig = plt.figure()\n",
    "ax = fig.add_subplot(111)\n",
    "ax.plot(y_test, label='True Data')\n",
    "plt.legend()\n",
    "for i, data in enumerate(predictions):\n",
    "    padding = [None for p in range(i * pred_window)]\n",
    "    plt.plot(padding + data)\n",
    "plt.show()"
   ]
  },
  {
   "cell_type": "markdown",
   "metadata": {},
   "source": [
    "# MODEL -- LSTM+LSTM+Dense"
   ]
  },
  {
   "cell_type": "code",
   "execution_count": 10,
   "metadata": {},
   "outputs": [
    {
     "name": "stdout",
     "output_type": "stream",
     "text": [
      "compilation time :  0.03401947021484375\n"
     ]
    },
    {
     "ename": "NameError",
     "evalue": "name 'predict_time_series_data' is not defined",
     "output_type": "error",
     "traceback": [
      "\u001b[1;31m---------------------------------------------------------------------------\u001b[0m",
      "\u001b[1;31mNameError\u001b[0m                                 Traceback (most recent call last)",
      "\u001b[1;32m<ipython-input-10-fa17bc3fb32b>\u001b[0m in \u001b[0;36m<module>\u001b[1;34m()\u001b[0m\n\u001b[0;32m     40\u001b[0m \u001b[0mpred_window\u001b[0m\u001b[1;33m=\u001b[0m\u001b[1;36m50\u001b[0m\u001b[1;33m\u001b[0m\u001b[0m\n\u001b[0;32m     41\u001b[0m \u001b[0mtime_window\u001b[0m\u001b[1;33m=\u001b[0m\u001b[0mtime_window\u001b[0m\u001b[1;33m\u001b[0m\u001b[0m\n\u001b[1;32m---> 42\u001b[1;33m \u001b[0mpredictions\u001b[0m\u001b[1;33m,\u001b[0m\u001b[0merror\u001b[0m \u001b[1;33m=\u001b[0m \u001b[0mpredict_time_series_data\u001b[0m\u001b[1;33m(\u001b[0m\u001b[0mmodel\u001b[0m\u001b[1;33m,\u001b[0m \u001b[0mX_test\u001b[0m\u001b[1;33m,\u001b[0m \u001b[0mtime_window\u001b[0m\u001b[1;33m,\u001b[0m\u001b[0mpred_window\u001b[0m\u001b[1;33m)\u001b[0m\u001b[1;33m\u001b[0m\u001b[0m\n\u001b[0m\u001b[0;32m     43\u001b[0m \u001b[0mprint\u001b[0m\u001b[1;33m(\u001b[0m\u001b[1;34m\"mean squared error\"\u001b[0m\u001b[1;33m,\u001b[0m\u001b[0merror\u001b[0m\u001b[1;33m)\u001b[0m\u001b[1;33m\u001b[0m\u001b[0m\n\u001b[0;32m     44\u001b[0m \u001b[1;33m\u001b[0m\u001b[0m\n",
      "\u001b[1;31mNameError\u001b[0m: name 'predict_time_series_data' is not defined"
     ]
    }
   ],
   "source": [
    "#Step 2 \n",
    "time_window=50\n",
    "X_train, y_train, X_test, y_test = prepare_data(tsd, time_window,False)\n",
    "#Step 3\n",
    "t1=datetime.now()\n",
    "early_stopping = EarlyStopping(monitor='val_loss', patience=10, verbose=1)\n",
    "\n",
    "model = Sequential()\n",
    "\n",
    "model.add(LSTM(\n",
    "#model.add(SimpleRNN(\n",
    "    input_shape=(None, 1), \n",
    "    units=50,\n",
    "    return_sequences=True))\n",
    "model.add(Dropout(0.2))\n",
    "\n",
    "model.add(LSTM(100,\n",
    "    return_sequences=False))\n",
    "model.add(Dropout(0.2))\n",
    "\n",
    "model.add(Dense(\n",
    "    units=1))\n",
    "model.add(Activation('linear'))\n",
    "\n",
    "start = time.time()\n",
    "#model.compile(loss='mse', optimizer='rmsprop')\n",
    "model.compile(loss='mse', optimizer='rmsprop',metrics=['mae'])\n",
    "print('compilation time : ', time.time() - start)\n",
    "\n",
    "#Step 4\n",
    "model.fit(\n",
    "    X_train,\n",
    "    y_train,\n",
    "    batch_size=500,\n",
    "    epochs=200,\n",
    "    shuffle=False,\n",
    "    validation_split=0.1,verbose=0)\n",
    "\n",
    "#Step 5 - Make the predictions!\n",
    "pred_window=50\n",
    "time_window=time_window\n",
    "predictions,error = predict_time_series_data(model, X_test, time_window,pred_window)\n",
    "print(\"mean squared error\",error)\n",
    "\n",
    "#Step 6 - Plot the prediction!\n",
    "fig = plt.figure()\n",
    "ax = fig.add_subplot(111)\n",
    "ax.plot(y_test, label='True Data')\n",
    "plt.legend()\n",
    "for i, data in enumerate(predictions):\n",
    "    padding = [None for p in range(i * pred_window)]\n",
    "    plt.plot(padding + data)\n",
    "plt.show()\n",
    "t2=datetime.now()\n",
    "print('execution time',t2-t1)"
   ]
  },
  {
   "cell_type": "code",
   "execution_count": null,
   "metadata": {
    "collapsed": true
   },
   "outputs": [],
   "source": []
  }
 ],
 "metadata": {
  "kernelspec": {
   "display_name": "Python [default]",
   "language": "python",
   "name": "python3"
  },
  "language_info": {
   "codemirror_mode": {
    "name": "ipython",
    "version": 3
   },
   "file_extension": ".py",
   "mimetype": "text/x-python",
   "name": "python",
   "nbconvert_exporter": "python",
   "pygments_lexer": "ipython3",
   "version": "3.5.3"
  }
 },
 "nbformat": 4,
 "nbformat_minor": 2
}
