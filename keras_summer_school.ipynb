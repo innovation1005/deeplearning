{
 "cells": [
  {
   "cell_type": "markdown",
   "metadata": {},
   "source": [
    "# ディープラーニング入門\n",
    "\n",
    "## 単純パーセプトロンを理解する。\n",
    "\n",
    "\n",
    "<img src=\"perceptron.png\"/>\n",
    "\n",
    "\n",
    "この図はニューロン間の情報の伝達を表現していて、前のニューロンからの入力信号に対して自分である信号を加算し、そしてその演算結果がある閾値を超えると、次のニューロンに電気信号を送るという仕組みを表現しています。\n",
    "\n",
    "これは次にように表現されることもあります。\n",
    "\n",
    "<img src=\"dl1.png?ssl=1\"/>\n",
    "\n",
    "\n",
    "ここで$x_1$、$x_2$は入力、$w_1$、$w_2$は重みを表し、その総量は\n",
    "\n",
    "$ w_1 x_1 + w_2 x_2 $　　\n",
    "\n",
    "で表されます。\n",
    "\n",
    "つぎにニューロンに信号を送る閾値を$\\theta$と置くと\n",
    "\n",
    "\\begin{cases}\n",
    "    1 \\ \\ \\ \\ \\ w_1 x_1 + w_2 x_2 \\ge \\theta \\\\\n",
    "    0 \\ \\ \\ \\ \\ w_1 x_1 + w_2 x_2 < \\theta\n",
    "\\end{cases}\n",
    "\n",
    "入力の数が2つあると複雑なので1つで考えてみましょう。\n",
    "\n",
    "\\begin{cases}\n",
    "    1 \\ \\ \\ \\ w_1 x_1  \\ge \\theta \\\\\n",
    "    0 \\ \\ \\ \\ w_1 x_1  < \\theta\n",
    "\\end{cases}\n",
    "\n",
    "この関係を利用して論理回路として考えることができます。\n",
    "\n",
    "## これをどうしても脳とつなげたい人のために\n",
    "\n",
    "<img src=\"https://thinkit.co.jp/sites/default/files/article_node/neuron_with_eq.png\"/>"
   ]
  },
  {
   "cell_type": "markdown",
   "metadata": {},
   "source": [
    "## ニューラルネットワークプレイグラウンド\n",
    "\n",
    "まずは訳が分からなくてもいろいろいじってみるのに便利なサイト\n",
    "\n",
    "\n",
    "http://playground.tensorflow.org/\n",
    "\n",
    "https://hinaser.github.io/Machine-Learning/index.html#batchsize-part"
   ]
  },
  {
   "cell_type": "markdown",
   "metadata": {},
   "source": [
    "## 論理回路\n",
    "\n",
    "人間の脳では情報をアナログで処理しているのでアナログ回路だと考えられますが、信号をデジタル化して処理することも可能で、そのような回路をデジタル回路と呼びます。デジタル回路では、情報を0か1の2値の信号として制御しています。そして、このような場合に論理ゲートいう回路を用いて、さらに複雑な回路を構築していきます。論理ゲートの基本は3つあり、\n",
    "\n",
    "    NOT ゲート(論理否定)  　　- 線形単回帰を利用した分類\n",
    "    AND ゲート(論理積)  　　　- 線形多重回帰を利用した分類\n",
    "    OR ゲート(論理和)  　 　　- 線形多重回帰を利用した分類\n",
    "    NAND ゲート(比例論理積)   - 線形多重回帰を利用した分類\n",
    "    XOR ゲート(排他的論理和)  - 非線形多重回帰を利用した分類\n",
    "    \n",
    "そしてこれら3つを組わせて複雑な回路を構成していきます。"
   ]
  },
  {
   "cell_type": "markdown",
   "metadata": {},
   "source": [
    "## NOTゲート\n",
    "\n",
    "<img src=\"http://semiconductor.seesaa.net/image/07a29fd8b973c5f03460b24751d556de.gif\"/>\n",
    "\n"
   ]
  },
  {
   "cell_type": "code",
   "execution_count": 25,
   "metadata": {},
   "outputs": [],
   "source": [
    "import numpy as np\n",
    "from keras.models import Sequential\n",
    "from keras.layers import Dense, Activation\n",
    "from keras.optimizers import SGD"
   ]
  },
  {
   "cell_type": "code",
   "execution_count": 22,
   "metadata": {},
   "outputs": [
    {
     "name": "stdout",
     "output_type": "stream",
     "text": [
      "1/2 [==============>...............] - ETA: 0spredicted class:\n",
      "[[1]\n",
      " [0]]\n",
      "\n",
      "classified:\n",
      "[[ True]\n",
      " [ True]]\n",
      "\n",
      "output probability:\n",
      "[[ 0.91850311]\n",
      " [ 0.05388337]]\n"
     ]
    }
   ],
   "source": [
    "'''\n",
    "モデル設定\n",
    "'''\n",
    "model = Sequential([\n",
    "    Dense(input_dim=1, units=1),  # Keras 1\n",
    "    Activation('sigmoid')\n",
    "])\n",
    "\n",
    "model.compile(loss='binary_crossentropy', optimizer=SGD(lr=0.1))\n",
    "\n",
    "'''\n",
    "モデル学習\n",
    "'''\n",
    "# NOTゲート\n",
    "X = np.array([[0], [1]])\n",
    "Y = np.array([[1], [0]])\n",
    "\n",
    "model.fit(X, Y, epochs=400, batch_size=1,verbose=0)  # Keras 1\n",
    "\n",
    "'''\n",
    "学習結果の確認\n",
    "'''\n",
    "classes = model.predict_classes(X, batch_size=1)\n",
    "prob = model.predict_proba(X, batch_size=1)\n",
    "\n",
    "print('predicted class:')\n",
    "print(classes)\n",
    "print()\n",
    "print('classified:')\n",
    "print(Y == classes)\n",
    "print()\n",
    "print('output probability:')\n",
    "print(prob)"
   ]
  },
  {
   "cell_type": "code",
   "execution_count": 4,
   "metadata": {},
   "outputs": [
    {
     "name": "stdout",
     "output_type": "stream",
     "text": [
      "[[-5.23414469]] [ 2.39543653]\n"
     ]
    }
   ],
   "source": [
    "print(model.layers[0].get_weights()[0],model.layers[0].get_weights()[1])"
   ]
  },
  {
   "cell_type": "markdown",
   "metadata": {},
   "source": [
    "### predict_classes\n",
    "\n",
    "predict_classes(self, x, batch_size=32, verbose=1)\n",
    "バッチごとに入力サンプルに対するクラスの予測を生成します．\n",
    "\n",
    "入力サンプルごとにバッチごとに処理します．\n",
    "\n",
    "引数\n",
    "\n",
    "- x: 入力データ，Numpy 配列または Numpy 配列のリスト（モデルに複数の入力がある場合）．\n",
    "- batch_size: 整数．\n",
    "- verbose: 進行状況メッセージ出力モード，0または1．\n",
    "- 戻り値\n",
    "\n",
    "属するクラスの予測を格納した Numpy 配列．\n",
    "\n",
    "### predict_proba\n",
    "\n",
    "predict_proba(self, x, batch_size=32, verbose=1)\n",
    "入力サンプルの各々のクラスの所属確率を生成します．\n",
    "\n",
    "入力サンプルごとにバッチごとに処理します．\n",
    "\n",
    "引数\n",
    "\n",
    "- x: 入力データ，Numpy 配列または Numpy 配列のリスト（モデルに複数の入力がある場合）．\n",
    "- batch_size: 整数．\n",
    "- verbose: 進行状況メッセージ出力モード，0または1．\n",
    "- 戻り値\n",
    "\n",
    "確率の予測値を格納した Numpy 配列．"
   ]
  },
  {
   "cell_type": "markdown",
   "metadata": {},
   "source": [
    "### ANDゲート\n",
    "\n",
    "<img src=\"http://www.atmarkit.co.jp/icd/root/images/23528379.gif\">\n",
    "\n",
    "<img src=\"http://www.it-passport.org/category/technology-calculation/Images/IPH242082-01.png\"/>\n",
    "\n",
    "ではkerasを使ってこの$w_1$、$w_2$、$\\theta$を求めてみましょう。\n",
    "\n",
    "まずは必要なライブラリをインポートします。"
   ]
  },
  {
   "cell_type": "markdown",
   "metadata": {},
   "source": [
    "つぎに\n",
    "```\n",
    "np.random.seed()\n",
    "```\n",
    "により毎回同じ乱数が出るようにします。()の数値はなんでもＯＫです。"
   ]
  },
  {
   "cell_type": "code",
   "execution_count": 5,
   "metadata": {
    "collapsed": true
   },
   "outputs": [],
   "source": [
    "np.random.seed(0)  # 乱数シード"
   ]
  },
  {
   "cell_type": "markdown",
   "metadata": {},
   "source": [
    "モデルの設定では、層の積み重ねと、その種類(Dense等)、そして活性化関数(Activation)などを指定します。"
   ]
  },
  {
   "cell_type": "code",
   "execution_count": 6,
   "metadata": {
    "collapsed": true
   },
   "outputs": [],
   "source": [
    "'''\n",
    "モデル設定\n",
    "'''\n",
    "model = Sequential([\n",
    "    Dense(input_dim=2, units=1),  # Keras 1\n",
    "    Activation('sigmoid')\n",
    "])"
   ]
  },
  {
   "cell_type": "markdown",
   "metadata": {},
   "source": [
    "compileメソッドにより学習の処理の方法を指定します。3つの引数を取ります。  \n",
    "    最適化アルゴリズム(optimizer)  \n",
    "    損失関数(loss)  \n",
    "    評価関数(metrics)  \n"
   ]
  },
  {
   "cell_type": "code",
   "execution_count": 7,
   "metadata": {
    "collapsed": true
   },
   "outputs": [],
   "source": [
    "model.compile(loss='binary_crossentropy', optimizer=SGD(lr=0.1))"
   ]
  },
  {
   "cell_type": "markdown",
   "metadata": {},
   "source": [
    "学習に必要なデータを用意します。ここではXは入力データ、Yは出力データです。"
   ]
  },
  {
   "cell_type": "code",
   "execution_count": 8,
   "metadata": {
    "collapsed": true
   },
   "outputs": [],
   "source": [
    "'''\n",
    "モデル学習\n",
    "'''\n",
    "# ANDゲート\n",
    "X = np.array([[0, 0], [0, 1], [1, 0], [1, 1]])\n",
    "Y = np.array([[0], [0], [0], [1]])"
   ]
  },
  {
   "cell_type": "markdown",
   "metadata": {},
   "source": [
    "モデルを与えられたデータにより訓練します。  \n",
    "ここでは  \n",
    "    * エポック数(nb_epoch):  データ全体に対する反復回数    \n",
    "    * バッチサイズ(batch_size):  N個のデータをM個の組に分けて学習する場合のMがバッチサイズです。  \n",
    "\n",
    "を指定します。バッチサイズを1に指定すると、元データの分割を行わないことを意味します。  \n",
    "\n",
    "また、verboseは進行状況をプリントアウトするかどうかを指定します。ゼロでプリントアウト無し、1でプリントアウトあり。"
   ]
  },
  {
   "cell_type": "code",
   "execution_count": 9,
   "metadata": {},
   "outputs": [
    {
     "data": {
      "text/plain": [
       "<keras.callbacks.History at 0x1dd13dc2748>"
      ]
     },
     "execution_count": 9,
     "metadata": {},
     "output_type": "execute_result"
    }
   ],
   "source": [
    "model.fit(X, Y, epochs=200, batch_size=1,verbose=0)  # Keras 1"
   ]
  },
  {
   "cell_type": "markdown",
   "metadata": {},
   "source": [
    "学習結果の確認では\n",
    "```\n",
    "predict_classes\n",
    "```\n",
    "を用いて、各クラスの予測値をnumpy配列として出力します。\n",
    "```\n",
    "predict_proba\n",
    "```\n",
    "は与えられたデータの各クラスの確率を示します。"
   ]
  },
  {
   "cell_type": "code",
   "execution_count": 10,
   "metadata": {},
   "outputs": [
    {
     "name": "stdout",
     "output_type": "stream",
     "text": [
      "1/4 [======>.......................] - ETA: 0s"
     ]
    }
   ],
   "source": [
    "'''\n",
    "学習結果の確認\n",
    "'''\n",
    "classes = model.predict_classes(X, batch_size=1)\n",
    "prob = model.predict_proba(X, batch_size=1)"
   ]
  },
  {
   "cell_type": "code",
   "execution_count": 11,
   "metadata": {},
   "outputs": [
    {
     "name": "stdout",
     "output_type": "stream",
     "text": [
      "predicted class:\n",
      "[[0]\n",
      " [0]\n",
      " [0]\n",
      " [1]]\n",
      "\n",
      "classified:\n",
      "[[ True]\n",
      " [ True]\n",
      " [ True]\n",
      " [ True]]\n",
      "\n",
      "output probability:\n",
      "[[ 0.01142787]\n",
      " [ 0.16586943]\n",
      " [ 0.16168705]\n",
      " [ 0.76839834]]\n"
     ]
    }
   ],
   "source": [
    "print('predicted class:')\n",
    "print(classes)\n",
    "print()\n",
    "print('classified:')\n",
    "print(Y == classes)\n",
    "print()\n",
    "print('output probability:')\n",
    "print(prob)"
   ]
  },
  {
   "cell_type": "code",
   "execution_count": 12,
   "metadata": {},
   "outputs": [
    {
     "name": "stdout",
     "output_type": "stream",
     "text": [
      "[[ 2.81447816]\n",
      " [ 2.84501791]] [-4.46020699]\n"
     ]
    }
   ],
   "source": [
    "print(model.layers[0].get_weights()[0],model.layers[0].get_weights()[1])"
   ]
  },
  {
   "cell_type": "markdown",
   "metadata": {},
   "source": [
    "## ORゲート\n",
    "\n",
    "<img src=\"http://www.atmarkit.co.jp/icd/root/images/72356809.gif\"/>\n",
    "\n",
    "<img src=\"http://www.w3ii.com/computer_logical_organization/or_truthtable.jpg\"/>\n",
    "\n",
    "ANDゲートで用いたモデルの設定がすべて使えるので、データだけ入れ替えればＯＫです。\n"
   ]
  },
  {
   "cell_type": "code",
   "execution_count": 13,
   "metadata": {},
   "outputs": [
    {
     "name": "stdout",
     "output_type": "stream",
     "text": [
      "1/4 [======>.......................] - ETA: 0spredicted class:\n",
      "[[0]\n",
      " [1]\n",
      " [1]\n",
      " [1]]\n",
      "\n",
      "classified:\n",
      "[[ True]\n",
      " [ True]\n",
      " [ True]\n",
      " [ True]]\n",
      "\n",
      "output probability:\n",
      "[[ 0.0780637 ]\n",
      " [ 0.96900016]\n",
      " [ 0.96891677]\n",
      " [ 0.9999131 ]]\n"
     ]
    }
   ],
   "source": [
    "'''\n",
    "モデル学習\n",
    "'''\n",
    "# ORゲート\n",
    "X = np.array([[0, 0], [0, 1], [1, 0], [1, 1]])\n",
    "Y = np.array([[0], [1], [1], [1]])\n",
    "\n",
    "model.fit(X, Y, epochs=400, batch_size=1,verbose=0)  # Keras 1\n",
    "\n",
    "'''\n",
    "学習結果の確認\n",
    "'''\n",
    "classes = model.predict_classes(X, batch_size=1)\n",
    "prob = model.predict_proba(X, batch_size=1)\n",
    "\n",
    "print('predicted class:')\n",
    "print(classes)\n",
    "print()\n",
    "print('classified:')\n",
    "print(Y == classes)\n",
    "print()\n",
    "print('output probability:')\n",
    "print(prob)\n"
   ]
  },
  {
   "cell_type": "code",
   "execution_count": 14,
   "metadata": {},
   "outputs": [
    {
     "name": "stdout",
     "output_type": "stream",
     "text": [
      "[[ 5.90846062]\n",
      " [ 5.91123438]] [-2.46895099]\n"
     ]
    }
   ],
   "source": [
    "print(model.layers[0].get_weights()[0],model.layers[0].get_weights()[1])"
   ]
  },
  {
   "cell_type": "markdown",
   "metadata": {},
   "source": [
    "## XORゲート\n",
    "\n",
    "<img src=\"http://www.atmarkit.co.jp/icd/root/images/46160543.gif\"/>\n",
    "\n",
    "<img src=\"http://www.ekouhou.net/%E5%A4%89%E8%AA%BF%E5%99%A8%E3%81%AE%E3%81%9F%E3%82%81%E3%81%AE%EF%BC%91%E3%83%93%E3%83%83%E3%83%88%E4%BF%A1%E5%8F%B7%E5%A4%89%E6%8F%9B%E3%82%92%E7%94%A8%E3%81%84%E3%82%8B%EF%BC%A4%EF%BC%A3%E3%82%AA%E3%83%95%E3%82%BB%E3%83%83%E3%83%88%E9%99%A4%E5%8E%BB%E5%9B%9E%E8%B7%AF/A,2009-505450_000003.jpg\"/>\n"
   ]
  },
  {
   "cell_type": "code",
   "execution_count": 15,
   "metadata": {},
   "outputs": [
    {
     "name": "stdout",
     "output_type": "stream",
     "text": [
      "1/4 [======>.......................] - ETA: 0spredicted class:\n",
      "[[1]\n",
      " [0]\n",
      " [0]\n",
      " [0]]\n",
      "\n",
      "classified:\n",
      "[[False]\n",
      " [False]\n",
      " [False]\n",
      " [ True]]\n",
      "\n",
      "output probability:\n",
      "[[ 0.5040648 ]\n",
      " [ 0.49797806]\n",
      " [ 0.49625704]\n",
      " [ 0.49017146]]\n"
     ]
    }
   ],
   "source": [
    "'''\n",
    "モデル設定\n",
    "'''\n",
    "model = Sequential([\n",
    "    Dense(input_dim=2, units=1),  # Keras 1\n",
    "    Activation('sigmoid')\n",
    "])\n",
    "\n",
    "model.compile(loss='binary_crossentropy', optimizer=SGD(lr=0.1))\n",
    "\n",
    "'''\n",
    "データの生成\n",
    "'''\n",
    "# XORゲート\n",
    "X = np.array([[0, 0], [0, 1], [1, 0], [1, 1]])\n",
    "Y = np.array([[0], [1], [1], [0]])\n",
    "\n",
    "model.fit(X, Y, epochs=400, batch_size=1,verbose=0)  # Keras \n",
    "\n",
    "model.compile(loss='binary_crossentropy', optimizer=SGD(lr=0.1))\n",
    "\n",
    "'''\n",
    "学習結果の確認\n",
    "'''\n",
    "classes = model.predict_classes(X, batch_size=1)\n",
    "prob = model.predict_proba(X, batch_size=1)\n",
    "\n",
    "print('predicted class:')\n",
    "print(classes)\n",
    "print()\n",
    "print('classified:')\n",
    "print(Y == classes)\n",
    "print()\n",
    "print('output probability:')\n",
    "print(prob)"
   ]
  },
  {
   "cell_type": "code",
   "execution_count": 16,
   "metadata": {},
   "outputs": [
    {
     "name": "stdout",
     "output_type": "stream",
     "text": [
      "[[-0.03123157]\n",
      " [-0.02434741]] [ 0.01625957]\n"
     ]
    }
   ],
   "source": [
    "print(model.layers[0].get_weights()[0],model.layers[0].get_weights()[1])"
   ]
  },
  {
   "cell_type": "markdown",
   "metadata": {},
   "source": [
    "結果としてそれぞれのクラスの中の予測値で間違いがあるので、単純パーセプトロンではXORはモデル化できないことが分かります。\n",
    "\n",
    "\n",
    "\n",
    "## 多層パーセプトロン\n",
    "\n",
    "そこで層の数を増やしてみましょう。\n",
    "\n",
    "<img src=\"https://openbook4.me/pictures/pics/000/001/104/medium/CNNArchitecture.jpg\"/>\n",
    "\n",
    "パーセプトロンが一層ではなく複数に積み重ねられているときを多層パーセプトロンと呼び、非線形の分類などに用いられています。\n",
    "\n",
    "### XORゲート\n",
    "\n",
    "XORゲートを実現できる論理回路の組み合わせは複数あります。\n",
    "\n",
    "<img src=\"http://home.a00.itscom.net/hatada/dc2/chap06/image/xor02.png\"/>\n",
    "\n",
    "<img src=\"http://d3i5bpxkxvwmz.cloudfront.net/resized/images/remote/http_s.eeweb.com/quizzes/2010/4/22/nand-xor-circuit-1293061257_402_229.png\"/>\n",
    "\n",
    "<img src=\"http://livedoor.blogimg.jp/can_i_be_a_geek/imgs/e/c/ec691597.png\"/>\n",
    "\n"
   ]
  },
  {
   "cell_type": "code",
   "execution_count": 27,
   "metadata": {
    "collapsed": true
   },
   "outputs": [],
   "source": [
    "'''\n",
    "モデル設定\n",
    "'''\n",
    "model = Sequential([\n",
    "    Dense(input_dim=2, units=1),  # Keras 1\n",
    "    Activation('sigmoid')\n",
    "])\n",
    "\n",
    "model.compile(loss='binary_crossentropy', optimizer=SGD(lr=0.1))\n",
    "\n",
    "'''\n",
    "データの生成\n",
    "'''\n",
    "# XORゲート\n",
    "X = np.array([[0, 0], [0, 1], [1, 0], [1, 1]])\n",
    "Y = np.array([[0], [1], [1], [0]])"
   ]
  },
  {
   "cell_type": "markdown",
   "metadata": {},
   "source": [
    "隠れ層として層が一つ増えていますので、ここでモデルの層を増やす操作をします。\n",
    "\n",
    "\n",
    "```\n",
    "    add\n",
    "```\n",
    "を用いて層(レイヤー)を簡単に追加できます。入力と出力の数に注意してください。\n",
    "\n"
   ]
  },
  {
   "cell_type": "code",
   "execution_count": 28,
   "metadata": {},
   "outputs": [
    {
     "name": "stderr",
     "output_type": "stream",
     "text": [
      "C:\\Users\\moriya\\Anaconda3\\lib\\site-packages\\ipykernel\\__main__.py:11: UserWarning: Update your `Dense` call to the Keras 2 API: `Dense(units=1)`\n"
     ]
    },
    {
     "name": "stdout",
     "output_type": "stream",
     "text": [
      "1/4 [======>.......................] - ETA: 0spredicted class:\n",
      "[[0]\n",
      " [1]\n",
      " [1]\n",
      " [0]]\n",
      "\n",
      "classified:\n",
      "[[ True]\n",
      " [ True]\n",
      " [ True]\n",
      " [ True]]\n",
      "\n",
      "output probability:\n",
      "[[ 0.00764498]\n",
      " [ 0.99147308]\n",
      " [ 0.99139154]\n",
      " [ 0.01331981]]\n"
     ]
    }
   ],
   "source": [
    "'''\n",
    "モデル設定\n",
    "'''\n",
    "model = Sequential()\n",
    "\n",
    "# 入力層 - 隠れ層\n",
    "model.add(Dense(input_dim=2, units=2))\n",
    "model.add(Activation('sigmoid'))\n",
    "\n",
    "# 隠れ層 - 出力層\n",
    "model.add(Dense(output_dim=1))\n",
    "model.add(Activation('sigmoid'))\n",
    "\n",
    "model.compile(loss='binary_crossentropy', optimizer=SGD(lr=0.1))\n",
    "\n",
    "'''\n",
    "モデル学習\n",
    "'''\n",
    "model.fit(X, Y, epochs=4000, batch_size=1,verbose=0)\n",
    "\n",
    "'''\n",
    "学習結果の確認\n",
    "'''\n",
    "classes = model.predict_classes(X, batch_size=1)\n",
    "prob = model.predict_proba(X, batch_size=1)\n",
    "\n",
    "print('predicted class:')\n",
    "print(classes)\n",
    "print()\n",
    "print('classified:')\n",
    "print(Y == classes)\n",
    "print()\n",
    "print('output probability:')\n",
    "print(prob)"
   ]
  },
  {
   "cell_type": "code",
   "execution_count": 31,
   "metadata": {},
   "outputs": [
    {
     "name": "stdout",
     "output_type": "stream",
     "text": [
      "[[-6.80790806 -5.11684799]\n",
      " [-6.91529179 -5.13192654]] [ 2.84745502  7.62116575]\n"
     ]
    }
   ],
   "source": [
    "print(model.layers[0].get_weights()[0],model.layers[0].get_weights()[1])"
   ]
  },
  {
   "cell_type": "markdown",
   "metadata": {},
   "source": [
    "# ディープラーニング\n",
    "\n",
    "<img src=\"https://s3-ap-northeast-1.amazonaws.com/prod-healthtechplus-wp-static/wp-content/uploads/2017/05/%E3%82%B9%E3%83%A9%E3%82%A4%E3%83%896-1.jpg\"/>\n",
    "\n",
    "# \n",
    "# \n",
    "# \n",
    "\n",
    "\n",
    "# CNN(Convolutional Neural Network)\n",
    "\n",
    "<img src=\"https://ai2-s2-public.s3.amazonaws.com/figures/2016-11-08/f5f1beada9e269b2a7faed8dfe936919ac0c2397/1-Figure1-1.png\"/>"
   ]
  },
  {
   "cell_type": "markdown",
   "metadata": {},
   "source": [
    "# \n",
    "# \n",
    "# "
   ]
  },
  {
   "cell_type": "markdown",
   "metadata": {},
   "source": [
    "# Linear Regression Model by keras\n"
   ]
  },
  {
   "cell_type": "code",
   "execution_count": 14,
   "metadata": {},
   "outputs": [
    {
     "name": "stdout",
     "output_type": "stream",
     "text": [
      "1/8 [==>...........................] - ETA: 0s[[ 0.31037042]] [ 0.511244]\n",
      "_________________________________________________________________\n",
      "Layer (type)                 Output Shape              Param #   \n",
      "=================================================================\n",
      "dense_7 (Dense)              (None, 1)                 2         \n",
      "=================================================================\n",
      "Total params: 2\n",
      "Trainable params: 2\n",
      "Non-trainable params: 0\n",
      "_________________________________________________________________\n",
      "None\n"
     ]
    },
    {
     "data": {
      "image/png": "[encoded data removed]",
      "text/plain": [
       "<matplotlib.figure.Figure at 0x141eff1def0>"
      ]
     },
     "metadata": {},
     "output_type": "display_data"
    }
   ],
   "source": [
    "'''\n",
    "A linear regression learning algorithm example using keras library.\n",
    "\n",
    "'''\n",
    "%matplotlib inline\n",
    "import numpy as np\n",
    "import matplotlib.pyplot as plt\n",
    "from keras.models import Sequential\n",
    "from keras.layers.core import Dense, Activation\n",
    "from keras.callbacks import EarlyStopping\n",
    "\n",
    "# Parameters\n",
    "learning_rate = 0.01\n",
    "\n",
    "# Training Data\n",
    "train_X = np.asarray([3,4,5,6,7,4,9,6,7,2,7.0,10.7,5.3,7.9,5.6,9.2,3.1])#17\n",
    "train_Y = np.asarray([1,2,2,3,2,2,4,3,3,1,2.8, 3.4,1.6,2.9,2.4,2.9,1.3])\n",
    "\n",
    "# Test Data\n",
    "test_X = np.asarray([7, 5, 8.9, 7.91, 5.7, 8.7, 3.1, 2.1])\n",
    "test_Y = np.asarray([2, 2, 3.2, 2.83, 2.9, 3.2, 1.3, 1.0])\n",
    "\n",
    "early_stopping = EarlyStopping(monitor='val_loss', patience=0, verbose=1)\n",
    "\n",
    "model = Sequential()\n",
    "model.add(Dense(input_dim=1,kernel_initializer='uniform',activation='linear',units=1))\n",
    "\n",
    "model.compile(loss='mse', optimizer='rmsprop')\n",
    "\n",
    "model.fit(\n",
    "    train_X,\n",
    "    train_Y,\n",
    "    batch_size=1,\n",
    "    epochs=1000,\n",
    "    validation_data=(test_X,test_Y),\n",
    "    #callbacks=[early_stopping],\n",
    "    verbose=0)\n",
    "classes=model.predict_classes(test_X,batch_size=1)\n",
    "w=model.get_weights()[0]\n",
    "b=model.get_weights()[1]\n",
    "Y=w[0]*train_X+b\n",
    "print(model.layers[0].get_weights()[0],model.layers[0].get_weights()[1])\n",
    "plt.plot(train_X,train_Y,'bo')\n",
    "plt.plot(train_X,Y)\n",
    "\n",
    "print(model.summary())\n",
    "#print(model.output)"
   ]
  }
 ],
 "metadata": {
  "kernelspec": {
   "display_name": "Python [default]",
   "language": "python",
   "name": "python3"
  },
  "language_info": {
   "codemirror_mode": {
    "name": "ipython",
    "version": 3
   },
   "file_extension": ".py",
   "mimetype": "text/x-python",
   "name": "python",
   "nbconvert_exporter": "python",
   "pygments_lexer": "ipython3",
   "version": "3.5.3"
  }
 },
 "nbformat": 4,
 "nbformat_minor": 2
}
